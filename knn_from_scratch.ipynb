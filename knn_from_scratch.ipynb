#knn from scratch
#calculate euclidean distance
#sorting of distances
#find K minimum distances
#find most common label of k minimum distances

import numpy as np
distance_array=[]
class knn:
  def __init__(self,k):
    self.k=k
  def fit(self,x_train,y_train):
    self.x=x_train
    self.y=y_train
  def euclidean_distance(self,point1,point2):
    distance=np.linalg.norm(point1-point2)
    distance_array.append(distance)
    return distance_array
  def common_label(self,distance_array):
    indices=np.argsort(distance_array)[:self.k]
    label=[self.y[i] for i in indices]
    return max(set(label),keys=label.count)
